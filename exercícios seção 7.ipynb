{
 "cells": [
  {
   "cell_type": "code",
   "execution_count": 3,
   "id": "cadc5751",
   "metadata": {
    "scrolled": true
   },
   "outputs": [
    {
     "name": "stdout",
     "output_type": "stream",
     "text": [
      "Dizite um valor inteiro: 4\n",
      "Deseja adcionar mais um número? S/Ns\n",
      "Dizite um valor inteiro: 7\n",
      "Deseja adcionar mais um número? S/Ns\n",
      "Dizite um valor inteiro: 0\n",
      "Deseja adcionar mais um número? S/Ns\n",
      "Dizite um valor inteiro: 8\n",
      "Deseja adcionar mais um número? S/Ns\n",
      "Dizite um valor inteiro: 2\n",
      "Deseja adcionar mais um número? S/Nn\n",
      "A amplitude da lista é8\n"
     ]
    }
   ],
   "source": [
    "# 1° exercício:\n",
    "def amplitude(l):\n",
    "    x = max(l)\n",
    "    y = min(l)\n",
    "    print(f'A amplitude da lista é {x-y}')\n",
    "    \n",
    "\n",
    "n = []\n",
    "s = ''\n",
    "while True:\n",
    "   a = int(input('Dizite um valor inteiro: '))\n",
    "   n.append(a)\n",
    "   a = 0\n",
    "   s = str(input('Deseja adcionar mais um número? S/N')).strip().upper()\n",
    "   if s == 'N':\n",
    "    break\n",
    "amplitude(n)"
   ]
  },
  {
   "cell_type": "code",
   "execution_count": 7,
   "id": "790ecc63",
   "metadata": {},
   "outputs": [
    {
     "name": "stdout",
     "output_type": "stream",
     "text": [
      "Digite alguma coisa:    cris\n",
      "------------------------------\n",
      "c\n",
      "r\n",
      "i\n",
      "s\n"
     ]
    }
   ],
   "source": [
    "# 2° exercício:\n",
    "def vertical(t):\n",
    "    a = len(t)\n",
    "    print('-'*30)\n",
    "    for x in range(0, a):\n",
    "        print(t[x])\n",
    "        \n",
    "\n",
    "n = str(input('Digite alguma coisa: ')).strip()\n",
    "vertical(n)"
   ]
  },
  {
   "cell_type": "code",
   "execution_count": 11,
   "id": "af7c5a08",
   "metadata": {},
   "outputs": [
    {
     "name": "stdout",
     "output_type": "stream",
     "text": [
      "Digite o valor do peso da mercadoria: 50\n",
      "Para uma carga de 50kg não aceitamos transportes\n"
     ]
    }
   ],
   "source": [
    "# 3° exercício:\n",
    "p = int(input('Digite o valor do peso da mercadoria: '))\n",
    "if p <= 10:\n",
    "    print(f'O valor da carga, que pesa {p}kg, será de R$ 50,00')\n",
    "elif 11 <= p <= 20:\n",
    "    print(f'O valor da carga, que pesa {p}kg, será de R$ 80,00')\n",
    "else:\n",
    "    print(f'Para uma carga de {p}kg não aceitamos transportes')\n",
    "   "
   ]
  },
  {
   "cell_type": "code",
   "execution_count": null,
   "id": "e77034ca",
   "metadata": {},
   "outputs": [],
   "source": []
  },
  {
   "cell_type": "code",
   "execution_count": null,
   "id": "0fd3a641",
   "metadata": {},
   "outputs": [],
   "source": []
  }
 ],
 "metadata": {
  "kernelspec": {
   "display_name": "Python 3 (ipykernel)",
   "language": "python",
   "name": "python3"
  },
  "language_info": {
   "codemirror_mode": {
    "name": "ipython",
    "version": 3
   },
   "file_extension": ".py",
   "mimetype": "text/x-python",
   "name": "python",
   "nbconvert_exporter": "python",
   "pygments_lexer": "ipython3",
   "version": "3.10.9"
  }
 },
 "nbformat": 4,
 "nbformat_minor": 5
}
